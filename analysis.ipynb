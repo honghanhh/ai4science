{
 "cells": [
  {
   "cell_type": "code",
   "execution_count": 1,
   "id": "00b53193-e237-490d-960c-4bb7d205c8c9",
   "metadata": {},
   "outputs": [
    {
     "data": {
      "text/plain": [
       "(['CoLiO2', 'is', 'a', 'battery', 'cathode', 'material', '.'],\n",
       " [('LiCoO2', 'CoLiO2')])"
      ]
     },
     "execution_count": 1,
     "metadata": {},
     "output_type": "execute_result"
    }
   ],
   "source": [
    "from mat2vec.processing import MaterialsTextProcessor\n",
    "text_processor = MaterialsTextProcessor()\n",
    "text_processor.process(\"LiCoO2 is a battery cathode material.\")"
   ]
  },
  {
   "cell_type": "code",
   "execution_count": 3,
   "id": "01720aa6-6cb9-4c5c-8cce-61f32f2e4413",
   "metadata": {},
   "outputs": [
    {
     "data": {
      "text/plain": [
       "[('thermoelectrics', 0.843568742275238),\n",
       " ('thermoelectric_properties', 0.8339031934738159),\n",
       " ('thermoelectric_power_generation', 0.7931368947029114),\n",
       " ('thermoelectric_figure_of_merit', 0.7916494011878967),\n",
       " ('seebeck_coefficient', 0.7753845453262329),\n",
       " ('thermoelectric_generators', 0.7641352415084839),\n",
       " ('figure_of_merit_ZT', 0.7587920427322388),\n",
       " ('thermoelectricity', 0.7515754699707031),\n",
       " ('Bi2Te3', 0.7480159997940063),\n",
       " ('thermoelectric_modules', 0.7434878349304199)]"
      ]
     },
     "execution_count": 3,
     "metadata": {},
     "output_type": "execute_result"
    }
   ],
   "source": [
    "from gensim.models import Word2Vec\n",
    "w2v_model = Word2Vec.load(\"mat2vec/mat2vec/training/models/pretrained_embeddings\")\n",
    "w2v_model.wv.most_similar(\"thermoelectric\")"
   ]
  },
  {
   "cell_type": "code",
   "execution_count": 4,
   "id": "38e64603-cf48-4b6b-a1fa-8fead5c0ea00",
   "metadata": {},
   "outputs": [
    {
     "data": {
      "text/plain": [
       "[('bandgap', 0.9348015189170837),\n",
       " ('band_-_gap', 0.9334774613380432),\n",
       " ('band_gaps', 0.8606899380683899),\n",
       " ('direct_band_gap', 0.8511276841163635),\n",
       " ('bandgaps', 0.8186785578727722)]"
      ]
     },
     "execution_count": 4,
     "metadata": {},
     "output_type": "execute_result"
    }
   ],
   "source": [
    "w2v_model.wv.most_similar(\"band_gap\", topn=5)"
   ]
  },
  {
   "cell_type": "code",
   "execution_count": 5,
   "id": "9d763cf3-e850-47b0-abd5-6e0524b2546b",
   "metadata": {},
   "outputs": [
    {
     "data": {
      "text/plain": [
       "[('iron', 0.7700884342193604)]"
      ]
     },
     "execution_count": 5,
     "metadata": {},
     "output_type": "execute_result"
    }
   ],
   "source": [
    "# helium is to He as ___ is to Fe? \n",
    "w2v_model.wv.most_similar(\n",
    "    positive=[\"helium\", \"Fe\"], \n",
    "    negative=[\"He\"], topn=1)"
   ]
  },
  {
   "cell_type": "code",
   "execution_count": 8,
   "id": "b155bcd5-bb02-4011-9603-c8b9950bbc4a",
   "metadata": {},
   "outputs": [],
   "source": [
    "# # \"GaAs\" is not normalized\n",
    "# w2v_model.wv.most_similar(\n",
    "#     positive=[\"cubic\", \"CdSe\"], \n",
    "#     negative=[\"GaAs\"], topn=1)"
   ]
  },
  {
   "cell_type": "code",
   "execution_count": 7,
   "id": "3530a0dc-03c9-41ae-a00b-2a55410f4572",
   "metadata": {},
   "outputs": [
    {
     "data": {
      "text/plain": [
       "[('hexagonal', 0.6162797212600708)]"
      ]
     },
     "execution_count": 7,
     "metadata": {},
     "output_type": "execute_result"
    }
   ],
   "source": [
    "from mat2vec.processing import MaterialsTextProcessor\n",
    "text_processor = MaterialsTextProcessor()\n",
    "w2v_model.wv.most_similar(\n",
    "    positive=[\"cubic\", text_processor.normalized_formula(\"CdSe\")], \n",
    "    negative=[text_processor.normalized_formula(\"GaAs\")], topn=1)"
   ]
  },
  {
   "cell_type": "code",
   "execution_count": null,
   "id": "105227e7-8320-4576-aeb7-706219af4270",
   "metadata": {},
   "outputs": [],
   "source": []
  }
 ],
 "metadata": {
  "kernelspec": {
   "display_name": "Python 3 (ipykernel)",
   "language": "python",
   "name": "python3"
  },
  "language_info": {
   "codemirror_mode": {
    "name": "ipython",
    "version": 3
   },
   "file_extension": ".py",
   "mimetype": "text/x-python",
   "name": "python",
   "nbconvert_exporter": "python",
   "pygments_lexer": "ipython3",
   "version": "3.8.13"
  }
 },
 "nbformat": 4,
 "nbformat_minor": 5
}
